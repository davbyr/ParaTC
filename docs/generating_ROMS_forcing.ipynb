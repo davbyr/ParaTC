{
 "cells": [
  {
   "cell_type": "markdown",
   "id": "df50cb92-f0b5-4fb3-8bce-d64f1dd40479",
   "metadata": {},
   "source": [
    "If you have a ROMS grid file (e.g. `roms_grd.nc`), you can use ParaTC to generate a forcing file from a track dataframe.\n",
    "\n",
    "Let's generate a storm as in `generating_2D_storms_with_TCModel.ipynb`:"
   ]
  },
  {
   "cell_type": "code",
   "execution_count": null,
   "id": "251c91c9-62f1-4aa5-9b38-fc4c8e5d880b",
   "metadata": {},
   "outputs": [],
   "source": [
    "# Imports. We only need h80 for the class based approach\n",
    "from paratc.tc_models import Holland1980 as h80\n",
    "from paratc import make_example_data\n",
    "import warnings \n",
    "warnings.filterwarnings('ignore')\n",
    "\n",
    "# Open example track and generate example grid\n",
    "track, grid_lon, grid_lat = make_example_data()\n",
    "\n",
    "# Create storm instance and look at dataset\n",
    "storm = h80( track, grid_lon, grid_lat, B_model='vickery00' )\n",
    "\n",
    "# Scale winds to surface level\n",
    "storm.scale_winds( 0.91 )\n",
    "\n",
    "# Apply piecewise inflow angle model\n",
    "storm.make_wind_vectors( inflow_model = 'wang20' )\n",
    "\n",
    "# Add background winds using reciprocal relationship\n",
    "storm.add_background_winds( bg_alpha = .55, bg_beta = 20 )"
   ]
  },
  {
   "cell_type": "markdown",
   "id": "534035cf-f95d-4678-ad82-0dc93afa3dec",
   "metadata": {},
   "source": [
    "Now we can convert `storm.data` into the required format for ROMS forcing using `to_ROMS()`. This function requires a roms grid xarray dataset.\n",
    "\n",
    "Using to_ROMS() will interpolate our storm vectors onto the ROMS U and V staggered grid. It will also rotate them to be aligned with the axes of the ROMS grid."
   ]
  },
  {
   "cell_type": "code",
   "execution_count": null,
   "id": "82a7cd4e-34a0-47ae-ac94-8369b87867e6",
   "metadata": {},
   "outputs": [],
   "source": [
    "# Open ROMS grid dataset\n",
    "roms_grd = xr.open_dataset( 'roms_grd.nc' )\n",
    "\n",
    "# Convert storm to format\n",
    "storm.to_ROMS( roms_grd )\n",
    "storm.to_netcdf( 'roms_frc.nc' )"
   ]
  }
 ],
 "metadata": {
  "kernelspec": {
   "display_name": "Python 3 (ipykernel)",
   "language": "python",
   "name": "python3"
  },
  "language_info": {
   "codemirror_mode": {
    "name": "ipython",
    "version": 3
   },
   "file_extension": ".py",
   "mimetype": "text/x-python",
   "name": "python",
   "nbconvert_exporter": "python",
   "pygments_lexer": "ipython3",
   "version": "3.9.16"
  }
 },
 "nbformat": 4,
 "nbformat_minor": 5
}

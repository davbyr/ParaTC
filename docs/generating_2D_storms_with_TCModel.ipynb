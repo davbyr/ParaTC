{
 "cells": [
  {
   "cell_type": "code",
   "execution_count": null,
   "id": "02979997-f6c8-4031-82b4-59d9aca64ed9",
   "metadata": {},
   "outputs": [],
   "source": [
    "# Imports. We only need h80 for the class based approach\n",
    "from paratc.tc_models import Holland1980 as h80\n",
    "from paratc import make_example_data\n",
    "import warnings \n",
    "warnings.filterwarnings('ignore')\n",
    "\n",
    "# Open example track and generate example grid\n",
    "track, grid_lon, grid_lat = make_example_data()\n",
    "track"
   ]
  },
  {
   "cell_type": "markdown",
   "id": "b3b92e7f-a815-48a5-86a2-8b63f2385f68",
   "metadata": {},
   "source": [
    "`track` is a pandas dataframe containing tropical cyclone track data. We pass this to `Holland1980()` alongside our 2D grid longitudes and latitudes. The class will then check the track dataframe for needed variables. In the case of `Holland1980()`, the B shape parameter is needed. You can calculate this yourself (using one of the functions in Holland1980), or provide `B_model` to `Holland1980()`, as below.\n",
    "\n",
    "Our new `storm` object will contain a `data` variable in the form of an xarray dataset. This contains our `grid_lon` and `grid_lat` variables, as well as our initial storm pressure, windspeed and wind components."
   ]
  },
  {
   "cell_type": "code",
   "execution_count": null,
   "id": "eb391e9e-c25c-4519-8dbc-e464e785efb3",
   "metadata": {},
   "outputs": [],
   "source": [
    "# Create storm instance and look at dataset\n",
    "storm = h80( track, grid_lon, grid_lat, B_model='vickery00' )\n",
    "storm.data"
   ]
  },
  {
   "cell_type": "markdown",
   "id": "ca9f9dee-6607-4e1e-9376-689348ee3c54",
   "metadata": {},
   "source": [
    "We can also check the `storm`'s `track` attribute. This is a copy of the track dataframe, however you will see that it now has a `B` column, translation speeds, `pdelta` and `timestep`:"
   ]
  },
  {
   "cell_type": "code",
   "execution_count": null,
   "id": "90c1fcad-7d04-4c27-b6aa-09dcf192e9ae",
   "metadata": {},
   "outputs": [],
   "source": [
    "storm.track"
   ]
  },
  {
   "cell_type": "markdown",
   "id": "4d186ef4-7da3-4327-8a52-0f0e7c73bf92",
   "metadata": {},
   "source": [
    "Let's use `.plot()` to take a look at a snapshot of the storm:"
   ]
  },
  {
   "cell_type": "code",
   "execution_count": null,
   "id": "80ff1dba-81be-4e2c-9c16-e5dbe1568ee0",
   "metadata": {},
   "outputs": [],
   "source": [
    "# Plot storm windspeed at timestep 3\n",
    "storm.plot(2)"
   ]
  },
  {
   "cell_type": "markdown",
   "id": "fbb950a0-8e27-4850-92e3-5f67d84bdde1",
   "metadata": {},
   "source": [
    "We can see that the windfield is perfectly symmetric, with no inflow towards the storm center. This is because no inflow angle model or background flow model has been applied yet. Let's do that:"
   ]
  },
  {
   "cell_type": "code",
   "execution_count": null,
   "id": "1d14b4b8-4905-4e75-bf2f-33582557c25a",
   "metadata": {},
   "outputs": [],
   "source": [
    "# Scale winds to surface level\n",
    "storm.scale_winds( 0.91 )\n",
    "\n",
    "# Apply piecewise inflow angle model\n",
    "storm.make_wind_vectors( inflow_model = 'wang20' )\n",
    "\n",
    "# Add background winds using reciprocal relationship, 55% scaling and 20 degree rotation\n",
    "storm.add_background_winds( bg_alpha = .55, bg_beta = 20 )"
   ]
  },
  {
   "cell_type": "markdown",
   "id": "404e172d-8e33-4a7d-8c62-b4f0a1d9ba40",
   "metadata": {},
   "source": [
    "There are other options for all models. Take a look into their respective modules for a full list."
   ]
  },
  {
   "cell_type": "code",
   "execution_count": null,
   "id": "e77c26a8-ee97-471d-8678-dd48e6dd1d2f",
   "metadata": {},
   "outputs": [],
   "source": [
    "# Plot new storm\n",
    "storm.plot(2)"
   ]
  },
  {
   "cell_type": "code",
   "execution_count": null,
   "id": "00fc9bdf-e1ec-49c7-b9c8-d6425b4912e6",
   "metadata": {},
   "outputs": [],
   "source": []
  }
 ],
 "metadata": {
  "kernelspec": {
   "display_name": "Python 3 (ipykernel)",
   "language": "python",
   "name": "python3"
  },
  "language_info": {
   "codemirror_mode": {
    "name": "ipython",
    "version": 3
   },
   "file_extension": ".py",
   "mimetype": "text/x-python",
   "name": "python",
   "nbconvert_exporter": "python",
   "pygments_lexer": "ipython3",
   "version": "3.9.16"
  }
 },
 "nbformat": 4,
 "nbformat_minor": 5
}

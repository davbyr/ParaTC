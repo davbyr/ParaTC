{
 "cells": [
  {
   "cell_type": "markdown",
   "id": "4fbedf16-8178-47ec-bb8e-ed2fb1b83dfd",
   "metadata": {},
   "source": [
    "### Generating 1-dimensional profiles with Holland1980()\n",
    "\n",
    "`Holland1980.pressure_equation` and `Holland1980.gradient_wind_equation` both calculate fields using the distance from storm center (km):"
   ]
  },
  {
   "cell_type": "code",
   "execution_count": null,
   "id": "e458c43c-11cb-426e-a350-e0cf19b8629d",
   "metadata": {},
   "outputs": [],
   "source": [
    "# Imports...\n",
    "import numpy as np\n",
    "from paratc.tc_models import Holland1980 as h80\n",
    "import matplotlib.pyplot as plt\n",
    "import warnings \n",
    "warnings.filterwarnings('ignore')\n",
    "\n",
    "# Make 1D array of storm center distances ... out to 1000km\n",
    "rdist = np.arange( 0, 500, 0.5 )\n",
    "\n",
    "# Make up some tropical cyclone parameters\n",
    "rmw = 50\n",
    "penv = 1015\n",
    "pcen = 900\n",
    "pdelta = penv - pcen\n",
    "B = h80.B_vickery00( pdelta, 50 )\n",
    "lat = 35\n",
    "\n",
    "# Make pressure / gradient winds\n",
    "pressure = h80.pressure_equation( rdist, rmw, B, penv, pcen, lat )\n",
    "windspeed = h80.gradient_wind_equation( rdist, rmw, B, pdelta, lat ) \n",
    "\n",
    "# Plot them\n",
    "fig, axes = plt.subplots(1, 2, figsize=(10, 4.5))\n",
    "\n",
    "axes[0].plot(rdist, pressure)\n",
    "axes[1].plot(rdist, windspeed)\n",
    "axes[0].set_title('Pressure profile')\n",
    "axes[1].set_title('Windspeed Profile (Gradient level)')\n",
    "axes[0].set_xlabel('Distance from storm center (km)')\n",
    "axes[1].set_xlabel('Distance from storm center (km)')"
   ]
  }
 ],
 "metadata": {
  "kernelspec": {
   "display_name": "Python 3 (ipykernel)",
   "language": "python",
   "name": "python3"
  },
  "language_info": {
   "codemirror_mode": {
    "name": "ipython",
    "version": 3
   },
   "file_extension": ".py",
   "mimetype": "text/x-python",
   "name": "python",
   "nbconvert_exporter": "python",
   "pygments_lexer": "ipython3",
   "version": "3.9.16"
  }
 },
 "nbformat": 4,
 "nbformat_minor": 5
}
